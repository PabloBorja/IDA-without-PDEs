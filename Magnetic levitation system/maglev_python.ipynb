{
 "cells": [
  {
   "cell_type": "markdown",
   "metadata": {},
   "source": [
    "# Magnetic levitation system\n",
    "\n",
    " *************** Created by Pablo Borja *******************\n",
    " \n",
    " ***** Contact: pablo.borjarosales@plymouth.ac.uk ***** \n",
    " \n",
    " ***** SECaM, Univerity of Plymouth, Plymouth, UK ***** \n",
    " \n",
    "\n",
    "Importing packages..."
   ]
  },
  {
   "cell_type": "code",
   "execution_count": 1,
   "metadata": {
    "id": "-mfplLde-yCr"
   },
   "outputs": [],
   "source": [
    "import numpy as np\n",
    "import matplotlib.pyplot as plt\n",
    "from matplotlib import rc\n",
    "\n",
    "from scipy.integrate import solve_ivp"
   ]
  },
  {
   "cell_type": "markdown",
   "metadata": {},
   "source": [
    "## Parameters for simulation\n",
    "\n",
    "Parameters of the plant"
   ]
  },
  {
   "cell_type": "code",
   "execution_count": 2,
   "metadata": {},
   "outputs": [],
   "source": [
    "mb = 0.1; \n",
    "rho = 0.05; \n",
    "k = 0.01; \n",
    "gr = 9.8; \n",
    "r = 8; "
   ]
  },
  {
   "cell_type": "markdown",
   "metadata": {},
   "source": [
    "We choose the desired equilibrium. Remember that the set of assignable equilibria is given by\n",
    "\n",
    "$$\\mathcal{E}=\\left\\lbrace x\\in\\mathbb{R}^{3}\\mid p=0, \\varphi=\\displaystyle\\sqrt{2km_{\\tt b}g_{\\tt r}} \n",
    "\\right\\rbrace.$$\n"
   ]
  },
  {
   "cell_type": "code",
   "execution_count": 3,
   "metadata": {},
   "outputs": [],
   "source": [
    "qd = -0.02; # Desired position. Modify if necessary.\n",
    "phid = np.sqrt(2*mb*gr*k);\n"
   ]
  },
  {
   "cell_type": "markdown",
   "metadata": {},
   "source": [
    "Initial conditions\n",
    "\n",
    "Modify to simulate different initial conditions\n"
   ]
  },
  {
   "cell_type": "code",
   "execution_count": 4,
   "metadata": {},
   "outputs": [],
   "source": [
    "y0 = [0, 0, 0.1];"
   ]
  },
  {
   "cell_type": "markdown",
   "metadata": {},
   "source": [
    "Initial and final time"
   ]
  },
  {
   "cell_type": "code",
   "execution_count": 6,
   "metadata": {},
   "outputs": [],
   "source": [
    "t0 = 0;\n",
    "\n",
    "tf = 20; # Modify if you want to simulate a longer or shorter period\n",
    "\n",
    "t = np.linspace(t0, tf, 1000)"
   ]
  },
  {
   "cell_type": "markdown",
   "metadata": {},
   "source": [
    "Control gains "
   ]
  },
  {
   "cell_type": "code",
   "execution_count": 7,
   "metadata": {},
   "outputs": [],
   "source": [
    "Kz = 0.08; #Gain. Modify if necessary\n",
    "Kdi = 3; #Damping injection gain. The system has natural damping (in the electrical part), but you can add more (if wanted)"
   ]
  },
  {
   "cell_type": "markdown",
   "metadata": {},
   "source": [
    "## System (ODE)"
   ]
  },
  {
   "cell_type": "markdown",
   "metadata": {},
   "source": [
    "Below, we briefly explain how to obtain the closed-loop dynamics. Please see the PDF file \"Examples\" to understand this part.\n",
    "\n",
    "================================\n",
    "\n",
    "For implementation purposes, it's simpler to consider the three dynamics independently because only $\\dot{\\varphi}$ is affected by the control input. Thus, we can directly implement\n",
    "\n",
    "$$\\begin{array}{rcl}\n",
    "\\dot{q} &=& \\frac{p}{m_{\\tt b}}; \\\\\n",
    "\\dot{p} &=& -m_{\\tt b}g_{\\tt r} + \\frac{\\varphi^{2}}{2k}\n",
    "\\end{array}\n",
    "$$\n",
    "\n",
    "Note that\n",
    "\n",
    "$$F_{\\tt uu}=\\begin{bmatrix}\n",
    "0 & 1  \\\\ -1 & 0 \\\\\n",
    "    \\end{bmatrix}, \\qquad F_{\\tt au}=\\begin{bmatrix}\n",
    "0 & 0 \n",
    "    \\end{bmatrix}, \\qquad F_{\\tt aa} = -r.$$\n",
    "\n",
    "The Hamiltonian's gradient is\n",
    "\n",
    "$$\\frac{\\partial H(x)}{\\partial x} = \\begin{bmatrix} m_{\\tt b}g_{\\tt r} - \\frac{\\varphi^{2}}{2k} \\\\ \\frac{p}{m_{\\tt b}} \\\\ \\frac{1}{k}\\varphi(\\rho - q) \\end{bmatrix}.$$\n",
    "\n",
    "Additionally,\n",
    "\n",
    "$$\\sigma = 1, \\quad \\Upsilon = \\begin{bmatrix} -1 \\\\ 0 \\end{bmatrix}, \\quad \\beta_{\\tt u}(x_{\\tt u}) = \\begin{bmatrix}\n",
    "     m_{\\tt b}g_{\\tt r} \\\\\n",
    "     \\frac{p}{m_{\\tt b}}   \\end{bmatrix}, \\quad \\beta_{\\tt \n",
    "a}(x_{\\tt a}) = \\frac{1}{2k}\\varphi^{2}, \\quad z(x) = q+\\varphi.$$\n",
    "\n",
    "Hence, for the suggested $\\Psi(z(x))$, we obtain\n",
    "\n",
    "$$\\frac{\\partial \\Psi(z(x))}{\\partial x} = \\begin{bmatrix} K_{\\tt z}(q+\\varphi-q_{\\tt d}-\\varphi_{\\tt d})-m_{\\tt b}g_{\\tt r} \\\\ 0 \\\\ K_{\\tt z}(q+\\varphi-q_{\\tt d}-\\varphi_{\\tt d})-m_{\\tt b}g_{\\tt r}\\end{bmatrix}.$$\n",
    "\n",
    "Therefore,\n",
    "\n",
    "$$\\frac{\\partial H_{\\tt d}(x)}{\\partial x} = \\begin{bmatrix} K_{\\tt z}(q+\\varphi-q_{\\tt d}-\\varphi_{\\tt d})-m_{\\tt b}g_{\\tt r} \\\\ 0 \\\\ K_{\\tt z}(q+\\varphi-q_{\\tt d}-\\varphi_{\\tt d})-m_{\\tt b}g_{\\tt r}\\end{bmatrix} + \\begin{bmatrix}\n",
    "     m_{\\tt b}g_{\\tt r} \\\\\n",
    "     \\frac{p}{m_{\\tt b}} \\\\  \\frac{1}{2k}\\varphi^{2} \\end{bmatrix}$$\n",
    "\n",
    "Hence, the control law reduces to\n",
    "\n",
    "$$\\begin{array}{rcl}\n",
    "u &=& -\\sigma\\Upsilon^{\\top}F_{\\tt uu}^{\\top}(x)\\frac{\\partial H_{\\tt d}(x)}{\\partial x_{\\tt u}}+F_{\\tt aa}(x)\\left(\\frac{\\partial H_{\\tt d}(x)}{\\partial x_{\\tt\n",
    "a}}-\\frac{\\partial H(x)}{\\partial x_{\\tt a}}  \\right)-K_{\\tt di}\\frac{\\partial H_{\\tt d}(x)}{\\partial x_{\\tt a}}- F_{\\tt au}(x)\\frac{\\partial H(x)}{\\partial x_{\\tt u}}\\\\\n",
    "&=& -\\frac{p}{m_{\\tt b}}-(r+K_{\\tt di})\\left(K_{\\tt z}(q+\\varphi-q_{\\tt d}-\\varphi_{\\tt d})-m_{\\tt b}g_{\\tt r}+ \\frac{1}{2k}\\varphi^{2}\\right)+\\frac{r}{k}\\varphi(\\rho - q).\n",
    "\\end{array}\n",
    "$$\n",
    "\n",
    "To obtain the closed-loop dynamics, we substitute the control law $u$ obtained above into\n",
    "\n",
    "$$\\dot{\\varphi} = -\\frac{r}{k}\\varphi(\\rho - q)+u.$$"
   ]
  },
  {
   "cell_type": "code",
   "execution_count": 8,
   "metadata": {},
   "outputs": [],
   "source": [
    "def maglev_ode(t, y, mb, rho, k, gr, r, qd, phid, Kz, Kdi):\n",
    "    q, p, phi = y\n",
    "    \n",
    "    # Controller\n",
    "\n",
    "    u = -p/mb-(r+Kdi)*(Kz*(q+phi-qd-phid)-mb*gr+(phi**2)/(2*k))+r*phi*(rho-q)/k\n",
    "\n",
    "    return [p/mb, -mb*gr+(phi**2)/(2*k),-r*phi*(rho-q)/k+u]"
   ]
  },
  {
   "cell_type": "markdown",
   "metadata": {},
   "source": [
    "## ODE solution"
   ]
  },
  {
   "cell_type": "code",
   "execution_count": 9,
   "metadata": {
    "id": "z7NPaJLM-_Rm"
   },
   "outputs": [],
   "source": [
    "sol_ivp = solve_ivp(maglev_ode,[t0,tf],y0,args=(mb, rho, k, gr, r, qd, phid, Kz, Kdi), dense_output=True, rtol = 1e-6, atol = 1e-10)\n",
    "\n",
    "p = sol_ivp.sol(t)"
   ]
  },
  {
   "cell_type": "markdown",
   "metadata": {
    "id": "uMhziyKQ-8HQ"
   },
   "source": [
    "## Plots"
   ]
  },
  {
   "cell_type": "code",
   "execution_count": 10,
   "metadata": {
    "colab": {
     "base_uri": "https://localhost:8080/",
     "height": 927
    },
    "executionInfo": {
     "elapsed": 1055,
     "status": "ok",
     "timestamp": 1709430935089,
     "user": {
      "displayName": "Pablo Borja",
      "userId": "02247246296104365382"
     },
     "user_tz": 0
    },
    "id": "KFS-fSNH-5Qi",
    "outputId": "ccacd895-127a-410f-d8a8-aca0ffc87348"
   },
   "outputs": [
    {
     "data": {
      "image/png": "[encoded data removed]",
      "text/plain": [
       "<Figure size 708.661x425.197 with 1 Axes>"
      ]
     },
     "metadata": {
      "needs_background": "light"
     },
     "output_type": "display_data"
    },
    {
     "data": {
      "image/png": "[encoded data removed]",
      "text/plain": [
       "<Figure size 708.661x425.197 with 1 Axes>"
      ]
     },
     "metadata": {
      "needs_background": "light"
     },
     "output_type": "display_data"
    },
    {
     "data": {
      "image/png": "[encoded data removed]",
      "text/plain": [
       "<Figure size 708.661x425.197 with 1 Axes>"
      ]
     },
     "metadata": {
      "needs_background": "light"
     },
     "output_type": "display_data"
    }
   ],
   "source": [
    "plt.rcParams['text.usetex'] = True\n",
    "cm = 1/2.54\n",
    "\n",
    "plt.rcParams.update({'font.size': 22})\n",
    "\n",
    "plt.figure(figsize=(25*cm, 15*cm))\n",
    "plt.plot(t, p[0].T, label = '$q$')\n",
    "plt.plot([t0,tf], [qd,qd],'--',label = '$q_{\\\\tt d}$')\n",
    "plt.title('$q$')\n",
    "plt.grid()\n",
    "plt.legend(loc='best')\n",
    "\n",
    "\n",
    "plt.figure(figsize=(25*cm, 15*cm))\n",
    "plt.plot(t, p[1].T,label = '$p$')\n",
    "plt.plot([t0,tf], [0,0],'--',label = '$p$')\n",
    "plt.title('$p$')\n",
    "plt.legend(loc='best')\n",
    "plt.grid()\n",
    "\n",
    "plt.figure(figsize=(25*cm, 15*cm))\n",
    "plt.plot(t, p[2].T,label = '$\\\\varphi$')\n",
    "plt.plot([t0,tf], [phid,phid],'--',label = '$\\\\varphi_{\\\\tt d}$')\n",
    "plt.title('$\\\\varphi$')\n",
    "plt.xlabel('$t$')\n",
    "plt.legend(loc='best')\n",
    "plt.grid()\n",
    "plt.show()"
   ]
  }
 ],
 "metadata": {
  "colab": {
   "authorship_tag": "ABX9TyNiue+S5Q+ccvJFyxmcr5Pu",
   "provenance": []
  },
  "kernelspec": {
   "display_name": "Python 3 (ipykernel)",
   "language": "python",
   "name": "python3"
  },
  "language_info": {
   "codemirror_mode": {
    "name": "ipython",
    "version": 3
   },
   "file_extension": ".py",
   "mimetype": "text/x-python",
   "name": "python",
   "nbconvert_exporter": "python",
   "pygments_lexer": "ipython3",
   "version": "3.10.12"
  }
 },
 "nbformat": 4,
 "nbformat_minor": 1
}
