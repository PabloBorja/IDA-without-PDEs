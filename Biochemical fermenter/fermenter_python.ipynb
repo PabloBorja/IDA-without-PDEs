{
 "cells": [
  {
   "cell_type": "markdown",
   "metadata": {},
   "source": [
    "# Biochemical fermenter\n",
    "\n",
    " *************** Created by Pablo Borja *******************\n",
    " \n",
    " ***** Contact: pablo.borjarosales@plymouth.ac.uk ***** \n",
    " \n",
    " ***** SECaM, Univerity of Plymouth, Plymouth, UK ***** \n",
    " "
   ]
  },
  {
   "cell_type": "markdown",
   "metadata": {},
   "source": [
    "Importing packages..."
   ]
  },
  {
   "cell_type": "code",
   "execution_count": 2,
   "metadata": {
    "id": "-mfplLde-yCr"
   },
   "outputs": [],
   "source": [
    "import numpy as np\n",
    "import matplotlib.pyplot as plt\n",
    "from scipy.integrate import solve_ivp"
   ]
  },
  {
   "cell_type": "markdown",
   "metadata": {},
   "source": [
    "## Parameters for simulation\n",
    "\n",
    "The values of the system parameters are taken from:\n",
    "\n",
    "~~~~~~~~~~~~~~~~\n",
    "\n",
    " Dörfler, F., Johnsen, J. K., & Allgoewer, F. (2009).\n",
    " An introduction to interconnection and damping assignment passivity-based control in process engineering.\n",
    " Journal of Process Control, 19(9), 1413-1426.\n",
    "\n",
    "~~~~~~~~~~~~~~~~"
   ]
  },
  {
   "cell_type": "code",
   "execution_count": 3,
   "metadata": {},
   "outputs": [],
   "source": [
    "Y = 0.5;\n",
    "mu_max = 1;\n",
    "Sf = 10;\n",
    "c1 = 0.03;\n",
    "c2 = 0.5;"
   ]
  },
  {
   "cell_type": "markdown",
   "metadata": {},
   "source": [
    "We define the desired equilibrium below. Modify if necessary. Remember to satisfy \n",
    "\n",
    "$$\\frac{x_{1_{\\tt d}}}{Y}+x_{2_{\\tt d}} = S_{\\tt f}$$\n"
   ]
  },
  {
   "cell_type": "code",
   "execution_count": 4,
   "metadata": {},
   "outputs": [],
   "source": [
    "\n",
    "x1d = 4.8;\n",
    "x2d = Sf - x1d/Y;\n"
   ]
  },
  {
   "cell_type": "raw",
   "metadata": {},
   "source": [
    "Initial conditions\n",
    "\n",
    "Modify to simulate different initial conditions\n"
   ]
  },
  {
   "cell_type": "code",
   "execution_count": 5,
   "metadata": {},
   "outputs": [],
   "source": [
    "y0 = [2.8, 4.4];"
   ]
  },
  {
   "cell_type": "raw",
   "metadata": {},
   "source": [
    "Initial and final time"
   ]
  },
  {
   "cell_type": "code",
   "execution_count": 6,
   "metadata": {},
   "outputs": [],
   "source": [
    "t0 = 0;\n",
    "\n",
    "tf = 5e-5; # Modify if you want to simulate a longer or shorter period\n",
    "\n",
    "t = np.linspace(t0, tf, 500)"
   ]
  },
  {
   "cell_type": "markdown",
   "metadata": {},
   "source": [
    "# System (ODE)"
   ]
  },
  {
   "cell_type": "markdown",
   "metadata": {},
   "source": [
    "Below, we briefly explain how to obtain the closed-loop dynamics. Please see the PDF file \"Examples\" to understand this part.\n",
    "\n",
    "================================\n",
    "\n",
    "The matrices $F(x)$ and $g(x)$ are given by\n",
    "\n",
    "$$F(x)=\\mu x_{1}\\begin{bmatrix} -1 & 0 \\\\ 0 & -\\frac{1}{Y x_{2}}  \\end{bmatrix} \\quad g(x)=\\mu x_{1}\\begin{bmatrix} -x_{1} \\\\ S_{\\tt f}-x_{2} \\end{bmatrix}.$$\n",
    "\n",
    "The Hamiltonian's gradient is\n",
    "\n",
    "$$\\frac{\\partial H(x)}{\\partial x} = \\begin{bmatrix} -1 \\\\ x_{2} \\end{bmatrix}.$$\n",
    "\n",
    "Additionally, \n",
    "\n",
    "$$\\frac{\\partial \\Phi(\\gamma)}{\\partial \\gamma} = \\frac{1}{x_{1_{\\tt d}}}+K\\left(\\gamma(x)-\\gamma(x_{\\star}) \\right)$$\n",
    "\n",
    "and\n",
    "\n",
    "$$H_{\\tt d}(x) = H(x)+\\Phi(\\gamma(x)).$$\n",
    "\n",
    "Hence, the control law reduces to\n",
    "\n",
    "$$u = \\underbrace{-\\frac{1}{x_{1_{\\tt d}}}-K\\left(\\gamma(x)-\\gamma(x_{\\star}) \\right)}_{-\\frac{\\partial \\Phi(\\gamma)}{\\partial \\gamma}} - K_{\\tt di}g^{\\top}(x)\\left(\\frac{\\partial H(x)}{\\partial x}+\\frac{\\partial \\Phi(\\gamma(x))}{\\partial x}\\right).$$\n",
    "\n",
    "To obtain the closed-loop dynamics, we substitute the control law $u$ obtained above into\n",
    "\n",
    "$$\\dot{x} = F(x)\\frac{\\partial H(x)}{\\partial x}+ g(x)u.$$"
   ]
  },
  {
   "cell_type": "code",
   "execution_count": 7,
   "metadata": {},
   "outputs": [],
   "source": [
    "def fermenter_ode(t, y, Y, mu_max, Sf, c1, c2, x1d, x2d):\n",
    "    x1, x2 = y\n",
    "    \n",
    "    mu = mu_max*x2/(c1+x2+c2*x2**2); # mu(x2)\n",
    "\n",
    "    F11 = -mu*x1; \n",
    "    F22 = -mu*x1/(x2*Y); # Elements of F(x)\n",
    "    g1 = -mu*x1**2;\n",
    "    g2 = mu*x1*(Sf-x2); # Elements of g(x)\n",
    "    nH1 = -1;\n",
    "    nH2 = x2; # Elements of the Hamiltonian's gradient\n",
    "\n",
    "    # Control parameters\n",
    "\n",
    "    gamma = -x1**2/2 + Sf*Y*x2**2/2 - Y*x2**3/3;\n",
    "    gamma_s = -x1d**2/2 + Sf*Y*x2d**2/2 - Y*x2d**3/3;\n",
    "    u_s = 1/x1d;\n",
    "\n",
    "    # Control gains\n",
    "\n",
    "    K = 5;\n",
    "    Kdi = 15/(mu*x1); # Modifying the closed-loop damping is necessary to achieve asymptotic stability\n",
    "\n",
    "    ngPhi = u_s + K*(gamma-gamma_s); # Partial of Φ with respect to γ\n",
    "\n",
    "    nPhi1 = ngPhi*x1;\n",
    "    nPhi2 = -ngPhi*(-Sf*Y*x2+Y*x2**2); # Elements of the gradient of Φ with respect to x\n",
    "\n",
    "    # Gradient of Hd. \n",
    "    nHd1 = nPhi1+nH1;\n",
    "    nHd2 = nPhi2+nH2; \n",
    "\n",
    "    # Controller\n",
    "\n",
    "    u = -ngPhi-Kdi*(g1*nHd1+g2*nHd2)\n",
    "\n",
    "    return [F11*nH1+g1*u, F22*nH2+g2*u]"
   ]
  },
  {
   "cell_type": "markdown",
   "metadata": {},
   "source": [
    "# ODE solution"
   ]
  },
  {
   "cell_type": "code",
   "execution_count": 8,
   "metadata": {
    "id": "z7NPaJLM-_Rm"
   },
   "outputs": [],
   "source": [
    "sol_ivp = solve_ivp(fermenter_ode,[t0,tf],y0,args=(Y, mu_max, Sf, c1, c2, x1d, x2d), dense_output=True, rtol = 1e-6, atol = 1e-10)\n",
    "\n",
    "p = sol_ivp.sol(t)"
   ]
  },
  {
   "cell_type": "markdown",
   "metadata": {
    "id": "uMhziyKQ-8HQ"
   },
   "source": [
    "# Plots"
   ]
  },
  {
   "cell_type": "code",
   "execution_count": 9,
   "metadata": {
    "colab": {
     "base_uri": "https://localhost:8080/",
     "height": 927
    },
    "executionInfo": {
     "elapsed": 1055,
     "status": "ok",
     "timestamp": 1709430935089,
     "user": {
      "displayName": "Pablo Borja",
      "userId": "02247246296104365382"
     },
     "user_tz": 0
    },
    "id": "KFS-fSNH-5Qi",
    "outputId": "ccacd895-127a-410f-d8a8-aca0ffc87348"
   },
   "outputs": [
    {
     "data": {
      "image/png": "[encoded data removed]",
      "text/plain": [
       "<Figure size 708.661x425.197 with 1 Axes>"
      ]
     },
     "metadata": {
      "needs_background": "light"
     },
     "output_type": "display_data"
    },
    {
     "data": {
      "image/png": "[encoded data removed]",
      "text/plain": [
       "<Figure size 708.661x425.197 with 1 Axes>"
      ]
     },
     "metadata": {
      "needs_background": "light"
     },
     "output_type": "display_data"
    }
   ],
   "source": [
    "plt.rcParams['text.usetex'] = True\n",
    "\n",
    "cm = 1/2.54\n",
    "\n",
    "plt.rcParams.update({'font.size': 22})\n",
    "\n",
    "plt.figure(figsize=(25*cm, 15*cm))\n",
    "plt.plot(t, p[0].T, label = '$x_{1}$')\n",
    "plt.plot([t0,tf], [x1d,x1d],'--',label = '$x_{1_{\\\\tt d}}$')\n",
    "plt.title('$x_{1}$')\n",
    "plt.grid()\n",
    "plt.legend(loc='best')\n",
    "\n",
    "plt.figure(figsize=(25*cm, 15*cm))\n",
    "plt.plot(t, p[1].T,label = '$x_{2}$')\n",
    "plt.plot([t0,tf], [x2d,x2d],'--',label = '$x_{2_{\\\\tt d}}$')\n",
    "plt.title('$x_{2}$')\n",
    "plt.xlabel('$t$')\n",
    "plt.legend(loc='best')\n",
    "plt.grid()\n",
    "plt.show()"
   ]
  },
  {
   "cell_type": "code",
   "execution_count": null,
   "metadata": {},
   "outputs": [],
   "source": []
  }
 ],
 "metadata": {
  "colab": {
   "authorship_tag": "ABX9TyNiue+S5Q+ccvJFyxmcr5Pu",
   "provenance": []
  },
  "kernelspec": {
   "display_name": "Python 3 (ipykernel)",
   "language": "python",
   "name": "python3"
  },
  "language_info": {
   "codemirror_mode": {
    "name": "ipython",
    "version": 3
   },
   "file_extension": ".py",
   "mimetype": "text/x-python",
   "name": "python",
   "nbconvert_exporter": "python",
   "pygments_lexer": "ipython3",
   "version": "3.10.12"
  }
 },
 "nbformat": 4,
 "nbformat_minor": 4
}
